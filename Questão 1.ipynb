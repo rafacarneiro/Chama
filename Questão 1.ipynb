{
 "cells": [
  {
   "cell_type": "markdown",
   "metadata": {},
   "source": [
    "***\n",
    "# <font color=indianred size=10>Notebook - Questão 1</font>\n",
    "***"
   ]
  },
  {
   "cell_type": "markdown",
   "metadata": {},
   "source": [
    "# <font color=lightcoral>1) Resumo</font>\n",
    "***\n",
    "\n",
    "O objetivo dessa questão é entender se o novo modelo implementado traz mais ou menos compras dentro do aplicativo.\n",
    "\n",
    "Para identificar isso foi criada uma coluna dentro do dataset para investigar quantos usuários abriam a página dos dealers x quantidade que consumavam a compra.\n",
    "\n",
    "Após isso, foi avaliado tanto a mediana para verificar a dispersão dos dados. Ou seja, se na maioria das linhas do dataset a taxa de conversão de compras foi maior ou menos\n",
    "\n",
    "Já a média foi utilizada para investigar se de fato houve ou não melhoria com o novo modelo. O que foi comprovado diante da evidência que o modelo anterior convertia aproximadamente 3,30% e no novo modelo 5,20%.\n",
    "\n",
    "Ou seja, houve um crescimento de aproximadamente 57,6%\n",
    "\n",
    "A análise exploratória seguiu para verificar possíveis insights. O que se verificou por exemplo, é que o novo modelo potencializou as vendas da Supergasbras em 225%, no entanto, reduziu as vendas da Liquigaz em 33%.\n",
    "\n",
    "Alguns cálculos foram retirados com o objetivo de despoluir ao máximo o notebook"
   ]
  },
  {
   "cell_type": "markdown",
   "metadata": {},
   "source": [
    "# <font color=lightcoral>2) Importando bibliotecas</font>\n",
    "***"
   ]
  },
  {
   "cell_type": "code",
   "execution_count": 206,
   "metadata": {},
   "outputs": [],
   "source": [
    "# Importando as bibliotecas\n",
    "\n",
    "\n",
    "import pandas as pd\n",
    "import numpy as np\n",
    "import seaborn as sns\n",
    "import matplotlib.pyplot as plt\n",
    "import datetime\n",
    "import warnings\n",
    "warnings.filterwarnings('ignore') # ou warnings.filterwarnings(action='once')"
   ]
  },
  {
   "cell_type": "code",
   "execution_count": 207,
   "metadata": {},
   "outputs": [
    {
     "data": {
      "text/html": [
       "<div>\n",
       "<style scoped>\n",
       "    .dataframe tbody tr th:only-of-type {\n",
       "        vertical-align: middle;\n",
       "    }\n",
       "\n",
       "    .dataframe tbody tr th {\n",
       "        vertical-align: top;\n",
       "    }\n",
       "\n",
       "    .dataframe thead th {\n",
       "        text-align: right;\n",
       "    }\n",
       "</style>\n",
       "<table border=\"1\" class=\"dataframe\">\n",
       "  <thead>\n",
       "    <tr style=\"text-align: right;\">\n",
       "      <th></th>\n",
       "      <th>DealerId</th>\n",
       "      <th>Distributor</th>\n",
       "      <th>DateSP</th>\n",
       "      <th>DriverId</th>\n",
       "      <th>OrderConfirmation</th>\n",
       "      <th>ExperimentGroup</th>\n",
       "      <th>Position</th>\n",
       "      <th>Price</th>\n",
       "      <th>PriceGap</th>\n",
       "      <th>Quality</th>\n",
       "      <th>Searches</th>\n",
       "      <th>TimeOnlineHours</th>\n",
       "      <th>Record Count</th>\n",
       "    </tr>\n",
       "  </thead>\n",
       "  <tbody>\n",
       "    <tr>\n",
       "      <th>0</th>\n",
       "      <td>__N5mPZn22mlmHuB/pf9DzYyqbWP4HoYBtB9s0EBNLG7c=</td>\n",
       "      <td>SUPERGASBRAS</td>\n",
       "      <td>26 de nov. de 2019</td>\n",
       "      <td>0c953cbf-71f7-469e-9cc3-6c5417942da2</td>\n",
       "      <td>0</td>\n",
       "      <td>default</td>\n",
       "      <td>1.696997</td>\n",
       "      <td>75.134315</td>\n",
       "      <td>5.760939</td>\n",
       "      <td>4.5</td>\n",
       "      <td>33</td>\n",
       "      <td>0.133333</td>\n",
       "      <td>1</td>\n",
       "    </tr>\n",
       "  </tbody>\n",
       "</table>\n",
       "</div>"
      ],
      "text/plain": [
       "                                         DealerId   Distributor  \\\n",
       "0  __N5mPZn22mlmHuB/pf9DzYyqbWP4HoYBtB9s0EBNLG7c=  SUPERGASBRAS   \n",
       "\n",
       "               DateSP                              DriverId  \\\n",
       "0  26 de nov. de 2019  0c953cbf-71f7-469e-9cc3-6c5417942da2   \n",
       "\n",
       "   OrderConfirmation ExperimentGroup  Position      Price  PriceGap  Quality  \\\n",
       "0                  0         default  1.696997  75.134315  5.760939      4.5   \n",
       "\n",
       "   Searches  TimeOnlineHours  Record Count  \n",
       "0        33         0.133333             1  "
      ]
     },
     "execution_count": 207,
     "metadata": {},
     "output_type": "execute_result"
    }
   ],
   "source": [
    "# Carregando o arquivo \n",
    "\n",
    "dataset = pd.read_csv('MobileDealer.csv')\n",
    "dataset.head(1)"
   ]
  },
  {
   "cell_type": "markdown",
   "metadata": {},
   "source": [
    "# <font color=lightcoral>3) Transformando os dados</font>\n",
    "***"
   ]
  },
  {
   "cell_type": "code",
   "execution_count": 208,
   "metadata": {},
   "outputs": [
    {
     "data": {
      "text/html": [
       "<div>\n",
       "<style scoped>\n",
       "    .dataframe tbody tr th:only-of-type {\n",
       "        vertical-align: middle;\n",
       "    }\n",
       "\n",
       "    .dataframe tbody tr th {\n",
       "        vertical-align: top;\n",
       "    }\n",
       "\n",
       "    .dataframe thead th {\n",
       "        text-align: right;\n",
       "    }\n",
       "</style>\n",
       "<table border=\"1\" class=\"dataframe\">\n",
       "  <thead>\n",
       "    <tr style=\"text-align: right;\">\n",
       "      <th></th>\n",
       "      <th>Distributor</th>\n",
       "      <th>ExperimentGroup</th>\n",
       "      <th>Searches</th>\n",
       "      <th>OrderConfirmation</th>\n",
       "      <th>Quality</th>\n",
       "      <th>TimeOnlineHours</th>\n",
       "      <th>Price</th>\n",
       "      <th>PriceGap</th>\n",
       "      <th>Position</th>\n",
       "      <th>%_confirmacao</th>\n",
       "    </tr>\n",
       "  </thead>\n",
       "  <tbody>\n",
       "    <tr>\n",
       "      <th>0</th>\n",
       "      <td>SUPERGASBRAS</td>\n",
       "      <td>default</td>\n",
       "      <td>33</td>\n",
       "      <td>0</td>\n",
       "      <td>4.5</td>\n",
       "      <td>0.133333</td>\n",
       "      <td>75.134315</td>\n",
       "      <td>5.760939</td>\n",
       "      <td>1.696997</td>\n",
       "      <td>0.000000</td>\n",
       "    </tr>\n",
       "    <tr>\n",
       "      <th>1</th>\n",
       "      <td>SUPERGASBRAS</td>\n",
       "      <td>default</td>\n",
       "      <td>344</td>\n",
       "      <td>3</td>\n",
       "      <td>4.5</td>\n",
       "      <td>5.666667</td>\n",
       "      <td>71.888319</td>\n",
       "      <td>4.398048</td>\n",
       "      <td>4.060985</td>\n",
       "      <td>0.872093</td>\n",
       "    </tr>\n",
       "    <tr>\n",
       "      <th>2</th>\n",
       "      <td>SUPERGASBRAS</td>\n",
       "      <td>default</td>\n",
       "      <td>32</td>\n",
       "      <td>1</td>\n",
       "      <td>4.5</td>\n",
       "      <td>0.533333</td>\n",
       "      <td>69.489053</td>\n",
       "      <td>0.769277</td>\n",
       "      <td>0.178564</td>\n",
       "      <td>3.125000</td>\n",
       "    </tr>\n",
       "  </tbody>\n",
       "</table>\n",
       "</div>"
      ],
      "text/plain": [
       "    Distributor ExperimentGroup  Searches  OrderConfirmation  Quality  \\\n",
       "0  SUPERGASBRAS         default        33                  0      4.5   \n",
       "1  SUPERGASBRAS         default       344                  3      4.5   \n",
       "2  SUPERGASBRAS         default        32                  1      4.5   \n",
       "\n",
       "   TimeOnlineHours      Price  PriceGap  Position  %_confirmacao  \n",
       "0         0.133333  75.134315  5.760939  1.696997       0.000000  \n",
       "1         5.666667  71.888319  4.398048  4.060985       0.872093  \n",
       "2         0.533333  69.489053  0.769277  0.178564       3.125000  "
      ]
     },
     "execution_count": 208,
     "metadata": {},
     "output_type": "execute_result"
    }
   ],
   "source": [
    "# Criando a coluna %_confirmação que será utilizada para mostrar a taxa de conversão de compras\n",
    "## A coluna foi criada a partir da interação entre as colunas \"Searches\" e \"OrderConfirmation\"\n",
    "### A fórmula utilizada para a criação é ORDERCONFIRMATION / SEARCHES * 100\n",
    "\n",
    "\n",
    "dataset = dataset[['Distributor', 'ExperimentGroup', 'Searches', 'OrderConfirmation', 'Quality', 'TimeOnlineHours', 'Price', 'PriceGap', 'Position']]\n",
    "dataset[\"%_confirmacao\"] = ((dataset[\"OrderConfirmation\"] / dataset[\"Searches\"]))*100\n",
    "dataset.head(3)"
   ]
  },
  {
   "cell_type": "code",
   "execution_count": 209,
   "metadata": {},
   "outputs": [
    {
     "data": {
      "text/html": [
       "<div>\n",
       "<style scoped>\n",
       "    .dataframe tbody tr th:only-of-type {\n",
       "        vertical-align: middle;\n",
       "    }\n",
       "\n",
       "    .dataframe tbody tr th {\n",
       "        vertical-align: top;\n",
       "    }\n",
       "\n",
       "    .dataframe thead th {\n",
       "        text-align: right;\n",
       "    }\n",
       "</style>\n",
       "<table border=\"1\" class=\"dataframe\">\n",
       "  <thead>\n",
       "    <tr style=\"text-align: right;\">\n",
       "      <th></th>\n",
       "      <th>Distributor</th>\n",
       "      <th>ExperimentGroup</th>\n",
       "      <th>Searches</th>\n",
       "      <th>OrderConfirmation</th>\n",
       "      <th>Quality</th>\n",
       "      <th>TimeOnlineHours</th>\n",
       "      <th>Price</th>\n",
       "      <th>PriceGap</th>\n",
       "      <th>Position</th>\n",
       "      <th>%_confirmacao</th>\n",
       "    </tr>\n",
       "  </thead>\n",
       "  <tbody>\n",
       "    <tr>\n",
       "      <th>2461</th>\n",
       "      <td>COPAGAZ</td>\n",
       "      <td>default</td>\n",
       "      <td>1</td>\n",
       "      <td>1</td>\n",
       "      <td>4.5</td>\n",
       "      <td>0.100000</td>\n",
       "      <td>80.0</td>\n",
       "      <td>0.0</td>\n",
       "      <td>0.0</td>\n",
       "      <td>100.0</td>\n",
       "    </tr>\n",
       "    <tr>\n",
       "      <th>2660</th>\n",
       "      <td>NACIONALGAS</td>\n",
       "      <td>default</td>\n",
       "      <td>1</td>\n",
       "      <td>1</td>\n",
       "      <td>4.5</td>\n",
       "      <td>0.066667</td>\n",
       "      <td>65.0</td>\n",
       "      <td>0.0</td>\n",
       "      <td>0.0</td>\n",
       "      <td>100.0</td>\n",
       "    </tr>\n",
       "  </tbody>\n",
       "</table>\n",
       "</div>"
      ],
      "text/plain": [
       "      Distributor ExperimentGroup  Searches  OrderConfirmation  Quality  \\\n",
       "2461      COPAGAZ         default         1                  1      4.5   \n",
       "2660  NACIONALGAS         default         1                  1      4.5   \n",
       "\n",
       "      TimeOnlineHours  Price  PriceGap  Position  %_confirmacao  \n",
       "2461         0.100000   80.0       0.0       0.0          100.0  \n",
       "2660         0.066667   65.0       0.0       0.0          100.0  "
      ]
     },
     "execution_count": 209,
     "metadata": {},
     "output_type": "execute_result"
    }
   ],
   "source": [
    "# Após analises preliminares, foi verificado que alguns valores poderiam poluir a análise.\n",
    "## Portanto os valores de confirmação acima de 50% foram retirados para análise\n",
    "### Apenas 2 linhas foram retiradas pois tiveram 100% de taxa de conversão, no entanto, só tiveram 1 procura no dia.\n",
    "\n",
    "\n",
    "possiveis_outliers = dataset.loc[(dataset['%_confirmacao'] > 51)]\n",
    "possiveis_outliers"
   ]
  },
  {
   "cell_type": "markdown",
   "metadata": {},
   "source": [
    "# <font color=lightcoral>4) Explorando os dados</font>\n",
    "***"
   ]
  },
  {
   "cell_type": "code",
   "execution_count": 210,
   "metadata": {},
   "outputs": [
    {
     "data": {
      "text/plain": [
       "<matplotlib.axes._subplots.AxesSubplot at 0x259d04eed30>"
      ]
     },
     "execution_count": 210,
     "metadata": {},
     "output_type": "execute_result"
    },
    {
     "data": {
      "image/png": "[encoded data removed]",
      "text/plain": [
       "<Figure size 864x432 with 1 Axes>"
      ]
     },
     "metadata": {
      "needs_background": "light"
     },
     "output_type": "display_data"
    }
   ],
   "source": [
    "# Construindo boxplot que tem como objetivo visualizar a simetria e dispersão dos dados\n",
    "## Esse gráfico traz a mediana e quartis dos dados.\n",
    "\n",
    "\n",
    "df = dataset.loc[(dataset['%_confirmacao'] < 50)]\n",
    "\n",
    "ax = sns.boxplot(y='ExperimentGroup', x='%_confirmacao', showmeans=True, meanprops={\"marker\":\"o\",\n",
    "                       \"markerfacecolor\":\"white\", \n",
    "                       \"markeredgecolor\":\"black\",\n",
    "                      \"markersize\":\"10\"}, data = df, orient='h', width=0.5, palette=\"crest\")\n",
    "ax.figure.set_size_inches(12, 6)\n",
    "ax.set_title('Boxplot de Confirmação de Ordem', fontsize=20)\n",
    "ax.set_ylabel('Percentual (%)', fontsize=12)\n",
    "ax.set_xlabel('Grupo de Experimento', fontsize=12)\n",
    "ax"
   ]
  },
  {
   "cell_type": "code",
   "execution_count": 211,
   "metadata": {},
   "outputs": [
    {
     "data": {
      "text/plain": [
       "<matplotlib.axes._subplots.AxesSubplot at 0x259d056f550>"
      ]
     },
     "execution_count": 211,
     "metadata": {},
     "output_type": "execute_result"
    },
    {
     "data": {
      "image/png": "[encoded data removed]",
      "text/plain": [
       "<Figure size 432x432 with 1 Axes>"
      ]
     },
     "metadata": {
      "needs_background": "light"
     },
     "output_type": "display_data"
    }
   ],
   "source": [
    "# No gráfico abaixo está informando a média de conversão de compras por acesso com o novo modelo.\n",
    "\n",
    "\n",
    "\n",
    "media = dataset.groupby(['ExperimentGroup'])['%_confirmacao'].mean().reset_index()\n",
    "\n",
    "ax = sns.barplot(x=\"ExperimentGroup\", \n",
    "                 y=\"%_confirmacao\", \n",
    "                 palette=\"crest\",\n",
    "                 order=media.sort_values('%_confirmacao',ascending = True).ExperimentGroup, \n",
    "                 data=media)\n",
    "ax.figure.set_size_inches(6, 6)\n",
    "ax.set_title('Taxa de Compra - Antes x Depois', fontsize=20)\n",
    "ax.set_ylabel('Percentual (%)', fontsize=12)\n",
    "ax.set_xlabel('Grupo de Experimento', fontsize=12)\n",
    "ax"
   ]
  },
  {
   "cell_type": "code",
   "execution_count": 212,
   "metadata": {},
   "outputs": [
    {
     "data": {
      "text/html": [
       "<div>\n",
       "<style scoped>\n",
       "    .dataframe tbody tr th:only-of-type {\n",
       "        vertical-align: middle;\n",
       "    }\n",
       "\n",
       "    .dataframe tbody tr th {\n",
       "        vertical-align: top;\n",
       "    }\n",
       "\n",
       "    .dataframe thead th {\n",
       "        text-align: right;\n",
       "    }\n",
       "</style>\n",
       "<table border=\"1\" class=\"dataframe\">\n",
       "  <thead>\n",
       "    <tr style=\"text-align: right;\">\n",
       "      <th></th>\n",
       "      <th>ExperimentGroup</th>\n",
       "      <th>%_confirmacao</th>\n",
       "    </tr>\n",
       "  </thead>\n",
       "  <tbody>\n",
       "    <tr>\n",
       "      <th>0</th>\n",
       "      <td>default</td>\n",
       "      <td>3.295112</td>\n",
       "    </tr>\n",
       "    <tr>\n",
       "      <th>1</th>\n",
       "      <td>treatment_group</td>\n",
       "      <td>5.209652</td>\n",
       "    </tr>\n",
       "  </tbody>\n",
       "</table>\n",
       "</div>"
      ],
      "text/plain": [
       "   ExperimentGroup  %_confirmacao\n",
       "0          default       3.295112\n",
       "1  treatment_group       5.209652"
      ]
     },
     "execution_count": 212,
     "metadata": {},
     "output_type": "execute_result"
    }
   ],
   "source": [
    "media"
   ]
  },
  {
   "cell_type": "code",
   "execution_count": 213,
   "metadata": {},
   "outputs": [
    {
     "data": {
      "text/plain": [
       "<matplotlib.axes._subplots.AxesSubplot at 0x259d06faf98>"
      ]
     },
     "execution_count": 213,
     "metadata": {},
     "output_type": "execute_result"
    },
    {
     "data": {
      "image/png": "[encoded data removed]",
      "text/plain": [
       "<Figure size 864x432 with 1 Axes>"
      ]
     },
     "metadata": {
      "needs_background": "light"
     },
     "output_type": "display_data"
    }
   ],
   "source": [
    "# A título de investigação, foram simulados novos cenários. Como por exemplo a taxa de conversão por distribuidor\n",
    "## Os valores da Supergasbras, por algum motivo, apresenta performance muito melhor com o novo modelo. \n",
    "\n",
    "\n",
    "ax = sns.boxplot(y='Distributor', x='%_confirmacao', data = df, hue = 'ExperimentGroup', orient='h', width=0.5, palette=\"crest\")\n",
    "ax.figure.set_size_inches(12, 6)\n",
    "ax.set_title('Boxplot de Confirmação de Ordem', fontsize=20)\n",
    "ax.set_ylabel('Percentual (%)', fontsize=12)\n",
    "ax.set_xlabel('Grupo de Experimento', fontsize=12)\n",
    "ax"
   ]
  },
  {
   "cell_type": "code",
   "execution_count": 214,
   "metadata": {},
   "outputs": [
    {
     "data": {
      "text/html": [
       "<div>\n",
       "<style scoped>\n",
       "    .dataframe tbody tr th:only-of-type {\n",
       "        vertical-align: middle;\n",
       "    }\n",
       "\n",
       "    .dataframe tbody tr th {\n",
       "        vertical-align: top;\n",
       "    }\n",
       "\n",
       "    .dataframe thead th {\n",
       "        text-align: right;\n",
       "    }\n",
       "</style>\n",
       "<table border=\"1\" class=\"dataframe\">\n",
       "  <thead>\n",
       "    <tr style=\"text-align: right;\">\n",
       "      <th></th>\n",
       "      <th>Distributor</th>\n",
       "      <th>ExperimentGroup</th>\n",
       "      <th>%_confirmacao</th>\n",
       "    </tr>\n",
       "  </thead>\n",
       "  <tbody>\n",
       "    <tr>\n",
       "      <th>0</th>\n",
       "      <td>CONSIGAZ</td>\n",
       "      <td>default</td>\n",
       "      <td>3.427357</td>\n",
       "    </tr>\n",
       "    <tr>\n",
       "      <th>1</th>\n",
       "      <td>CONSIGAZ</td>\n",
       "      <td>treatment_group</td>\n",
       "      <td>2.271999</td>\n",
       "    </tr>\n",
       "    <tr>\n",
       "      <th>2</th>\n",
       "      <td>COPAGAZ</td>\n",
       "      <td>default</td>\n",
       "      <td>2.075353</td>\n",
       "    </tr>\n",
       "    <tr>\n",
       "      <th>3</th>\n",
       "      <td>LIQUIGAS</td>\n",
       "      <td>default</td>\n",
       "      <td>3.850163</td>\n",
       "    </tr>\n",
       "    <tr>\n",
       "      <th>4</th>\n",
       "      <td>LIQUIGAS</td>\n",
       "      <td>treatment_group</td>\n",
       "      <td>5.157071</td>\n",
       "    </tr>\n",
       "    <tr>\n",
       "      <th>5</th>\n",
       "      <td>MULTIMARCAS</td>\n",
       "      <td>default</td>\n",
       "      <td>2.559450</td>\n",
       "    </tr>\n",
       "    <tr>\n",
       "      <th>6</th>\n",
       "      <td>NACIONALGAS</td>\n",
       "      <td>default</td>\n",
       "      <td>2.534809</td>\n",
       "    </tr>\n",
       "    <tr>\n",
       "      <th>7</th>\n",
       "      <td>SUPERGASBRAS</td>\n",
       "      <td>default</td>\n",
       "      <td>2.484892</td>\n",
       "    </tr>\n",
       "    <tr>\n",
       "      <th>8</th>\n",
       "      <td>SUPERGASBRAS</td>\n",
       "      <td>treatment_group</td>\n",
       "      <td>8.074375</td>\n",
       "    </tr>\n",
       "    <tr>\n",
       "      <th>9</th>\n",
       "      <td>ULTRAGAZ</td>\n",
       "      <td>default</td>\n",
       "      <td>4.025589</td>\n",
       "    </tr>\n",
       "  </tbody>\n",
       "</table>\n",
       "</div>"
      ],
      "text/plain": [
       "    Distributor  ExperimentGroup  %_confirmacao\n",
       "0      CONSIGAZ          default       3.427357\n",
       "1      CONSIGAZ  treatment_group       2.271999\n",
       "2       COPAGAZ          default       2.075353\n",
       "3      LIQUIGAS          default       3.850163\n",
       "4      LIQUIGAS  treatment_group       5.157071\n",
       "5   MULTIMARCAS          default       2.559450\n",
       "6   NACIONALGAS          default       2.534809\n",
       "7  SUPERGASBRAS          default       2.484892\n",
       "8  SUPERGASBRAS  treatment_group       8.074375\n",
       "9      ULTRAGAZ          default       4.025589"
      ]
     },
     "execution_count": 214,
     "metadata": {},
     "output_type": "execute_result"
    }
   ],
   "source": [
    "# Construindo tabela para observar as médias por distribuidor\n",
    "## Pode-se constatar aumento de 225% nas vendas da Supergasbras com o novo modelo\n",
    "### Já as vendas da Liquigas reduziram em 33% com o novo modelo.\n",
    "\n",
    "\n",
    "media_distribuidor = dataset.groupby(['Distributor', 'ExperimentGroup'])['%_confirmacao'].mean().reset_index()\n",
    "media_distribuidor"
   ]
  },
  {
   "cell_type": "markdown",
   "metadata": {},
   "source": [
    "# <font color=lightcoral>5) Conclusão</font>\n",
    "***\n",
    "\n",
    "O novo modelo aumentou às vendas em Aproximadamente 57,6%. Portanto ele é melhor do que o anterior.\n",
    "\n",
    "Alguns pontos devem ser investigados com a questão da queda nas vendas da Liquigas por exemplo.\n",
    "\n",
    "Próximos passos: Seria interessante categorizar as variáveis quantitativas com o objetivo de gerar mais insights, como o exemplo dos distribuidores, e a partir daí compreender os fatores que interfeririam no aumento ou redução das vendas."
   ]
  },
  {
   "cell_type": "code",
   "execution_count": null,
   "metadata": {},
   "outputs": [],
   "source": []
  }
 ],
 "metadata": {
  "kernelspec": {
   "display_name": "Python 3",
   "language": "python",
   "name": "python3"
  },
  "language_info": {
   "codemirror_mode": {
    "name": "ipython",
    "version": 3
   },
   "file_extension": ".py",
   "mimetype": "text/x-python",
   "name": "python",
   "nbconvert_exporter": "python",
   "pygments_lexer": "ipython3",
   "version": "3.7.0"
  }
 },
 "nbformat": 4,
 "nbformat_minor": 2
}
